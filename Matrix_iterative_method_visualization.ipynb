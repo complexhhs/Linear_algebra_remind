{
  "nbformat": 4,
  "nbformat_minor": 0,
  "metadata": {
    "colab": {
      "private_outputs": true,
      "provenance": [],
      "authorship_tag": "ABX9TyPXFHS8rsvqgqtzQIr+BZIJ",
      "include_colab_link": true
    },
    "kernelspec": {
      "name": "python3",
      "display_name": "Python 3"
    },
    "language_info": {
      "name": "python"
    }
  },
  "cells": [
    {
      "cell_type": "markdown",
      "metadata": {
        "id": "view-in-github",
        "colab_type": "text"
      },
      "source": [
        "<a href=\"https://colab.research.google.com/github/complexhhs/Linear_algebra_remind/blob/main/Matrix_iterative_method_visualization.ipynb\" target=\"_parent\"><img src=\"https://colab.research.google.com/assets/colab-badge.svg\" alt=\"Open In Colab\"/></a>"
      ]
    },
    {
      "cell_type": "code",
      "execution_count": null,
      "metadata": {
        "id": "92U3LVnEIiD5"
      },
      "outputs": [],
      "source": [
        "import numpy as np\n",
        "import matplotlib.pyplot as plt\n",
        "\n",
        "from python_Iterative_Matrix_solver import Jacobi, Gauss_Seidel, Conjugate_Gradient, Preconditioned_Conjugate_Gradient"
      ]
    },
    {
      "cell_type": "markdown",
      "source": [
        "# Let's view Rank-2 Tensor linear algebra system\n",
        "---\n",
        "\n",
        "$$A =\n",
        "\\begin{bmatrix}\n",
        "2 & 4  \\\\\n",
        "5 & 6\n",
        "\\end{bmatrix}\n",
        "$$\n",
        "\n",
        "$$B =\n",
        "\\begin{bmatrix}\n",
        "14.52412418   \\\\\n",
        "24.30280587\n",
        "\\end{bmatrix}\n",
        "$$\n",
        "\n",
        "With this condition, Find the solution $X$ of below linear system.\n",
        "\n",
        "$$ AX = B $$\n",
        "\n",
        "Exact solution is\n",
        "\n",
        "$$ X =\n",
        "\\begin{bmatrix}\n",
        "1.2583098   \\\\\n",
        "3.001876145\n",
        "\\end{bmatrix}\n",
        "$$"
      ],
      "metadata": {
        "id": "TrFLELWXI8i_"
      }
    },
    {
      "cell_type": "code",
      "source": [
        "# Define target Matrix and vector\n",
        "A = np.array([[2,4], [5,6]])\n",
        "B = np.array([14.52412418, 24.30280587])"
      ],
      "metadata": {
        "id": "BrJ-I4BoIpyC"
      },
      "execution_count": null,
      "outputs": []
    },
    {
      "cell_type": "code",
      "source": [
        "# Visualize optimal value point using 2d contour map\n",
        "x1 = np.linspace(-5, 5, 100)\n",
        "x2 = np.linspace(-3, 7, 100)\n",
        "Z = np.zeros((len(x1), len(x2)))\n",
        "for i in range(len(x1)):\n",
        "    for j in range(len(x2)):\n",
        "        X = np.array([x1[i], x2[j]])\n",
        "        val = np.linalg.norm(A@X - B)\n",
        "        Z[i][j] = val\n",
        "\n",
        "X1, X2 = np.meshgrid(x1, x2)"
      ],
      "metadata": {
        "id": "0lnexO01IqOY"
      },
      "execution_count": null,
      "outputs": []
    },
    {
      "cell_type": "code",
      "source": [
        "plt.contourf(X1, X2, Z, cmap='jet', levels=300)\n",
        "plt.plot(1.2583098, 3.001876145, 'r*', markersize=3)\n",
        "plt.xlabel(\"X1\")\n",
        "plt.ylabel(\"X2\")\n",
        "plt.colorbar()"
      ],
      "metadata": {
        "id": "nPQK1EC2NBRZ"
      },
      "execution_count": null,
      "outputs": []
    },
    {
      "cell_type": "code",
      "source": [
        "Jacobi_list, jacobi_iter = Jacobi(A,B)\n",
        "Gauss_seidel_list, Gauss_seidel_iter = Gauss_Seidel(A,B)\n",
        "Conjugate_Gradient_list, Conjugate_Gradient_iter = Conjugate_Gradient(A,B)\n",
        "Preconditioned_Conjugate_Gradient_list, Preconditioned_Conjugate_Gradient_iter = Preconditioned_Conjugate_Gradient(A,B)"
      ],
      "metadata": {
        "id": "l-NkyZrcOt7b"
      },
      "execution_count": null,
      "outputs": []
    },
    {
      "cell_type": "code",
      "source": [
        "Preconditioned_Conjugate_Gradient_list[-1] # Oh no!"
      ],
      "metadata": {
        "id": "ItF3F1_UXrKE"
      },
      "execution_count": null,
      "outputs": []
    },
    {
      "cell_type": "code",
      "source": [
        "# Detection direction\n",
        "Jacobi_list = np.array(Jacobi_list)\n",
        "Gauss_seidel_list = np.array(Gauss_seidel_list)\n",
        "Conjugate_Gradient_list = np.array(Conjugate_Gradient_list)\n",
        "Preconditioned_Conjugate_Gradient_list = np.array(Preconditioned_Conjugate_Gradient_list)\n",
        "\n",
        "plt.contourf(X1, X2, Z, cmap='jet', levels=300)\n",
        "plt.plot(Jacobi_list[:,0], Jacobi_list[:, 1], '-ob', label=\"Jacobi iteration\")\n",
        "plt.plot(Gauss_seidel_list[:,0], Gauss_seidel_list[:, 1], '-og', label=\"Gauss_Seidel iteration\")\n",
        "plt.plot(Conjugate_Gradient_list[:,0], Conjugate_Gradient_list[:, 1], '-oy', label=\"Conjugate Gradient iteration\")\n",
        "#plt.plot(Preconditioned_Conjugate_Gradient_list[:,0], Preconditioned_Conjugate_Gradient_list[:, 1], '-ok', label=\"Preconditioned Conjugate Gradient iteration\")\n",
        "plt.plot(1.2583098, 3.001876145, 'r*', markersize=3, label=\"Optimal point\")\n",
        "plt.xlabel(\"X1\")\n",
        "plt.ylabel(\"X2\")\n",
        "plt.legend()\n",
        "plt.colorbar()"
      ],
      "metadata": {
        "id": "bs6QgPVEWH5H"
      },
      "execution_count": null,
      "outputs": []
    },
    {
      "cell_type": "code",
      "source": [
        "print(\"Iteration list\")\n",
        "print(\"-----------------------------------------------\")\n",
        "print(f\"Jacobi iteration: {jacobi_iter}\")\n",
        "print(f\"Gauss-Seidel iteration: {Gauss_seidel_iter}\")\n",
        "print(f\"Conjugate-Gradient iteration: {Conjugate_Gradient_iter}\")"
      ],
      "metadata": {
        "id": "-Diutup8Z-Fo"
      },
      "execution_count": null,
      "outputs": []
    }
  ]
}